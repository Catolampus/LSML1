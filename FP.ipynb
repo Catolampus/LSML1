{
 "cells": [
  {
   "cell_type": "markdown",
   "metadata": {},
   "source": [
    "# User routes on the site\n",
    "## Description\n",
    "**Clickstream** is a sequence of user actions on a website. It allows you to understand how users interact with the site. In this task, you need to find the most frequent custom routes.\n",
    "\n",
    "## Input data\n",
    "Input data is а table with clickstream data in file `hdfs:/data/clickstream.csv`.\n",
    "\n",
    "### Table structure\n",
    "* `user_id (int)` - Unique user identifier.\n",
    "* `session_id (int)` - Unique identifier for the user session. The user's session lasts until the identifier changes.\n",
    "* `event_type (string)` - Event type from the list:\n",
    "    * **page** - visit to the page\n",
    "    * **event** - any action on the page\n",
    "    * <b>&lt;custom&gt;</b> - string with any other type\n",
    "* `event_type (string)` - Page on the site.\n",
    "* `timestamp (int)` - Unix-timestamp of action.\n",
    "\n",
    "### Browser errors\n",
    "Errors can sometimes occur in the user's browser - after such an error appears, we can no longer trust the data of this session and all the following lines after the error or at the same time with it are considered corrupted and **should not be counted** in statistics.\n",
    "\n",
    "When an error occurs on the page, a random string containing the word **error** will be written to the `event_type` field.\n",
    "\n",
    "### Sample of user session\n",
    "<pre>\n",
    "+-------+----------+------------+----------+----------+\n",
    "|user_id|session_id|  event_type|event_page| timestamp|\n",
    "+-------+----------+------------+----------+----------+\n",
    "|    562|       507|        page|      main|1620494781|\n",
    "|    562|       507|       event|      main|1620494788|\n",
    "|    562|       507|       event|      main|1620494798|\n",
    "|    562|       507|        page|    family|1620494820|\n",
    "|    562|       507|       event|    family|1620494828|\n",
    "|    562|       507|        page|      main|1620494848|\n",
    "|    562|       507|wNaxLlerrorU|      main|1620494865|\n",
    "|    562|       507|       event|      main|1620494873|\n",
    "|    562|       507|        page|      news|1620494875|\n",
    "|    562|       507|        page|   tariffs|1620494876|\n",
    "|    562|       507|       event|   tariffs|1620494884|\n",
    "|    562|       514|        page|      main|1620728918|\n",
    "|    562|       514|       event|      main|1620729174|\n",
    "|    562|       514|        page|   archive|1620729674|\n",
    "|    562|       514|        page|     bonus|1620729797|\n",
    "|    562|       514|        page|   tariffs|1620731090|\n",
    "|    562|       514|       event|   tariffs|1620731187|\n",
    "+-------+----------+------------+----------+----------+\n",
    "</pre>\n",
    "\n",
    "#### Correct user routes for a given user:\n",
    "* **Session 507**: main-family-main\n",
    "* **Session 514**: main-archive-bonus-tariffs\n",
    "\n",
    "Route elements are ordered by the time they appear in the clickstream, from earliest to latest.\n",
    "\n",
    "The route must be accounted for completely before the end of the session or an error in the session.\n",
    "\n",
    "## Task\n",
    "You need to use the Spark SQL, Spark RDD and Spark DF interfaces to create a solution file, the lines of which contain **the 30 most frequent user routes** on the site.\n",
    "\n",
    "Each line of the file should contain the `route` and `count` values **separated by tabs**, where:\n",
    "* `route` - route on the site, consisting of pages separated by \"-\".\n",
    "* `count` - the number of user sessions in which this route was.\n",
    "\n",
    "The lines must be **ordered in descending order** of the `count` field.\n",
    "\n",
    "## Criteria\n",
    "You can get maximum of 3.5 points (final grade) for this assignment, depedning on the number of interface you manage to leverage. The criteria are as follows:\n",
    "\n",
    "* 0.5 points – Spark SQL solution with 1 query\n",
    "* 0.5 points – Spark SQL solution with <=2 queries\n",
    "* 0.5 points – Spark RDD solution\n",
    "* 0.5 points – Spark DF solution\n",
    "* 0.5 points – your solution algorithm is relatively optimized, i.e.: no O^2 or O^3 complexities; appropriate object usage; no data leaks etc. This is evaluated by staff.\n",
    "* 1 point – 1 on 1 screening session. During this session staff member can ask you questions regarding your solution logic, framework usage, questionable parts of your code etc. If your code is clean enough, the staff member can just ask you to solve a theoretical problem connected to Spark.\n"
   ]
  },
  {
   "cell_type": "code",
   "execution_count": 3,
   "metadata": {
    "tags": []
   },
   "outputs": [],
   "source": [
    "! hadoop fs -copyFromLocal clickstream.csv /"
   ]
  },
  {
   "cell_type": "code",
   "execution_count": 7,
   "metadata": {
    "tags": []
   },
   "outputs": [],
   "source": [
    "# Spark SQL "
   ]
  },
  {
   "cell_type": "code",
   "execution_count": 2,
   "metadata": {
    "tags": []
   },
   "outputs": [
    {
     "name": "stderr",
     "output_type": "stream",
     "text": [
      "Setting default log level to \"WARN\".\n",
      "To adjust logging level use sc.setLogLevel(newLevel). For SparkR, use setLogLevel(newLevel).\n",
      "2023-10-01 14:42:02,710 WARN yarn.Client: Neither spark.yarn.jars nor spark.yarn.archive is set, falling back to uploading libraries under SPARK_HOME.\n"
     ]
    }
   ],
   "source": [
    "import findspark\n",
    "findspark.init()\n",
    "\n",
    "import pyspark\n",
    "sc = pyspark.SparkContext(appName='jupyter')\n",
    "\n",
    "from pyspark.sql import SparkSession, Row\n",
    "se = SparkSession(sc)"
   ]
  },
  {
   "cell_type": "code",
   "execution_count": 3,
   "metadata": {
    "tags": []
   },
   "outputs": [
    {
     "name": "stderr",
     "output_type": "stream",
     "text": [
      "                                                                                \r"
     ]
    }
   ],
   "source": [
    "data = se.read.csv(\"hdfs:///clickstream.csv\", header=True, inferSchema=True, sep = \"\\t\")"
   ]
  },
  {
   "cell_type": "code",
   "execution_count": 8,
   "metadata": {
    "tags": []
   },
   "outputs": [
    {
     "data": {
      "text/html": [
       "<div>\n",
       "<style scoped>\n",
       "    .dataframe tbody tr th:only-of-type {\n",
       "        vertical-align: middle;\n",
       "    }\n",
       "\n",
       "    .dataframe tbody tr th {\n",
       "        vertical-align: top;\n",
       "    }\n",
       "\n",
       "    .dataframe thead th {\n",
       "        text-align: right;\n",
       "    }\n",
       "</style>\n",
       "<table border=\"1\" class=\"dataframe\">\n",
       "  <thead>\n",
       "    <tr style=\"text-align: right;\">\n",
       "      <th></th>\n",
       "      <th>user_id</th>\n",
       "      <th>session_id</th>\n",
       "      <th>event_type</th>\n",
       "      <th>event_page</th>\n",
       "      <th>timestamp</th>\n",
       "    </tr>\n",
       "  </thead>\n",
       "  <tbody>\n",
       "    <tr>\n",
       "      <th>0</th>\n",
       "      <td>562</td>\n",
       "      <td>507</td>\n",
       "      <td>page</td>\n",
       "      <td>main</td>\n",
       "      <td>1695584127</td>\n",
       "    </tr>\n",
       "    <tr>\n",
       "      <th>1</th>\n",
       "      <td>562</td>\n",
       "      <td>507</td>\n",
       "      <td>event</td>\n",
       "      <td>main</td>\n",
       "      <td>1695584134</td>\n",
       "    </tr>\n",
       "    <tr>\n",
       "      <th>2</th>\n",
       "      <td>562</td>\n",
       "      <td>507</td>\n",
       "      <td>event</td>\n",
       "      <td>main</td>\n",
       "      <td>1695584144</td>\n",
       "    </tr>\n",
       "    <tr>\n",
       "      <th>3</th>\n",
       "      <td>562</td>\n",
       "      <td>507</td>\n",
       "      <td>event</td>\n",
       "      <td>main</td>\n",
       "      <td>1695584147</td>\n",
       "    </tr>\n",
       "    <tr>\n",
       "      <th>4</th>\n",
       "      <td>562</td>\n",
       "      <td>507</td>\n",
       "      <td>wNaxLlerrorU</td>\n",
       "      <td>main</td>\n",
       "      <td>1695584154</td>\n",
       "    </tr>\n",
       "  </tbody>\n",
       "</table>\n",
       "</div>"
      ],
      "text/plain": [
       "   user_id  session_id    event_type event_page   timestamp\n",
       "0      562         507          page       main  1695584127\n",
       "1      562         507         event       main  1695584134\n",
       "2      562         507         event       main  1695584144\n",
       "3      562         507         event       main  1695584147\n",
       "4      562         507  wNaxLlerrorU       main  1695584154"
      ]
     },
     "execution_count": 8,
     "metadata": {},
     "output_type": "execute_result"
    }
   ],
   "source": [
    "data.registerTempTable(\"df\")\n",
    "data.limit(5).toPandas()"
   ]
  },
  {
   "cell_type": "code",
   "execution_count": 9,
   "metadata": {
    "tags": []
   },
   "outputs": [
    {
     "name": "stdout",
     "output_type": "stream",
     "text": [
      "+-------+----------+------------+----------+----------+\n",
      "|user_id|session_id|  event_type|event_page| timestamp|\n",
      "+-------+----------+------------+----------+----------+\n",
      "|    562|       507|        page|      main|1695584127|\n",
      "|    562|       507|       event|      main|1695584134|\n",
      "|    562|       507|       event|      main|1695584144|\n",
      "|    562|       507|       event|      main|1695584147|\n",
      "|    562|       507|wNaxLlerrorU|      main|1695584154|\n",
      "|    562|       507|       event|      main|1695584154|\n",
      "|    562|       507|       event|      main|1695584154|\n",
      "|    562|       507|       event|      main|1695584160|\n",
      "|    562|       507|        page|    rabota|1695584166|\n",
      "|    562|       507|       event|    rabota|1695584174|\n",
      "+-------+----------+------------+----------+----------+\n",
      "only showing top 10 rows\n",
      "\n",
      "Data Types: [('user_id', 'int'), ('session_id', 'int'), ('event_type', 'string'), ('event_page', 'string'), ('timestamp', 'int')]\n"
     ]
    }
   ],
   "source": [
    "data.show(10)\n",
    "print(\"Data Types:\", data.dtypes)"
   ]
  },
  {
   "cell_type": "code",
   "execution_count": 11,
   "metadata": {
    "tags": []
   },
   "outputs": [
    {
     "name": "stderr",
     "output_type": "stream",
     "text": [
      "                                                                                \r"
     ]
    },
    {
     "data": {
      "text/plain": [
       "1000000"
      ]
     },
     "execution_count": 11,
     "metadata": {},
     "output_type": "execute_result"
    }
   ],
   "source": [
    "data.count()"
   ]
  },
  {
   "cell_type": "markdown",
   "metadata": {},
   "source": [
    "# SQL"
   ]
  },
  {
   "cell_type": "code",
   "execution_count": 6,
   "metadata": {
    "tags": []
   },
   "outputs": [],
   "source": [
    "data.createOrReplaceTempView(\"events\")"
   ]
  },
  {
   "cell_type": "code",
   "execution_count": 7,
   "metadata": {
    "tags": []
   },
   "outputs": [],
   "source": [
    "result_df = se.sql(\"\"\"\n",
    "SELECT route, count(route) as cnt FROM (\n",
    "    SELECT user_id, session_id, CONCAT_WS(\"-\", COLLECT_LIST(event_page)) AS route\n",
    "    FROM\n",
    "            (SELECT \n",
    "                user_id, \n",
    "                session_id, \n",
    "                event_type, \n",
    "                event_page, \n",
    "                timestamp, \n",
    "                MAX(CASE WHEN event_type like '%error%' THEN 1 ELSE 0 END) \n",
    "                    OVER (PARTITION BY user_id, session_id ORDER BY timestamp) as error_flag\n",
    "            FROM events)\n",
    "    WHERE error_flag = 0\n",
    "    GROUP BY user_id, session_id\n",
    ")\n",
    "GROUP BY route\n",
    "ORDER BY cnt desc\n",
    "LIMIT 30\n",
    "\"\"\")\n"
   ]
  },
  {
   "cell_type": "code",
   "execution_count": 8,
   "metadata": {
    "tags": []
   },
   "outputs": [
    {
     "name": "stderr",
     "output_type": "stream",
     "text": [
      "[Stage 4:==============================================>           (8 + 2) / 10]\r"
     ]
    },
    {
     "name": "stdout",
     "output_type": "stream",
     "text": [
      "+--------------------+----+\n",
      "|               route| cnt|\n",
      "+--------------------+----+\n",
      "|                main|3434|\n",
      "|           main-main|1979|\n",
      "|      main-main-main|1128|\n",
      "| main-main-main-main| 696|\n",
      "|main-main-main-ma...| 406|\n",
      "|main-main-main-ma...| 220|\n",
      "|        main-archive| 201|\n",
      "|         main-rabota| 177|\n",
      "|       main-internet| 158|\n",
      "|          main-bonus| 153|\n",
      "|           main-news| 147|\n",
      "|main-main-main-ma...| 145|\n",
      "|  main-rabota-rabota| 127|\n",
      "|        main-tariffs| 117|\n",
      "|main-archive-archive| 116|\n",
      "|    main-main-rabota| 111|\n",
      "|main-internet-int...| 110|\n",
      "|   main-main-archive| 109|\n",
      "|         main-online| 106|\n",
      "|     main-main-bonus|  98|\n",
      "+--------------------+----+\n",
      "only showing top 20 rows\n",
      "\n"
     ]
    },
    {
     "name": "stderr",
     "output_type": "stream",
     "text": [
      "                                                                                \r"
     ]
    }
   ],
   "source": [
    "result_df.show()"
   ]
  },
  {
   "cell_type": "markdown",
   "metadata": {},
   "source": [
    "## In task we don't have direct rules for different events like main-main, so, the other possible solutuion"
   ]
  },
  {
   "cell_type": "code",
   "execution_count": 11,
   "metadata": {
    "tags": []
   },
   "outputs": [],
   "source": [
    "result_df = se.sql(\"\"\"\n",
    "SELECT route, count(route) as cnt FROM (\n",
    "    SELECT user_id, session_id, CONCAT_WS(\"-\", COLLECT_LIST(event_page)) AS route\n",
    "    FROM\n",
    "            (SELECT distinct\n",
    "                user_id, \n",
    "                session_id,\n",
    "                event_page, \n",
    "                MAX(CASE WHEN event_type like '%error%' THEN 1 ELSE 0 END) \n",
    "                    OVER (PARTITION BY user_id, session_id ORDER BY timestamp) as error_flag\n",
    "            FROM events)\n",
    "    WHERE error_flag = 0\n",
    "    GROUP BY user_id, session_id\n",
    ")\n",
    "GROUP BY route\n",
    "ORDER BY cnt desc\n",
    "LIMIT 30\n",
    "\"\"\")\n"
   ]
  },
  {
   "cell_type": "code",
   "execution_count": 12,
   "metadata": {
    "tags": []
   },
   "outputs": [
    {
     "name": "stderr",
     "output_type": "stream",
     "text": [
      "[Stage 16:=======================================>                 (7 + 2) / 10]\r"
     ]
    },
    {
     "name": "stdout",
     "output_type": "stream",
     "text": [
      "+--------------------+----+\n",
      "|               route| cnt|\n",
      "+--------------------+----+\n",
      "|                main|8184|\n",
      "|        main-archive|1212|\n",
      "|         main-rabota|1155|\n",
      "|       main-internet| 980|\n",
      "|          main-bonus| 941|\n",
      "|           main-news| 834|\n",
      "|        main-tariffs| 732|\n",
      "|         main-online| 635|\n",
      "|          main-vklad| 549|\n",
      "| main-archive-rabota| 232|\n",
      "| main-rabota-archive| 224|\n",
      "|main-internet-rabota| 189|\n",
      "|  main-bonus-archive| 186|\n",
      "|main-archive-inte...| 185|\n",
      "|   main-bonus-rabota| 185|\n",
      "|    main-news-rabota| 182|\n",
      "|   main-rabota-bonus| 179|\n",
      "|main-rabota-internet| 177|\n",
      "|   main-archive-news| 173|\n",
      "|main-internet-arc...| 173|\n",
      "+--------------------+----+\n",
      "only showing top 20 rows\n",
      "\n"
     ]
    },
    {
     "name": "stderr",
     "output_type": "stream",
     "text": [
      "                                                                                \r"
     ]
    }
   ],
   "source": [
    "result_df.show()"
   ]
  },
  {
   "cell_type": "markdown",
   "metadata": {},
   "source": [
    "I think both cases looks correct in terms of task, will choose the 1st one.\n",
    "The only difference is **distinct** or not"
   ]
  },
  {
   "cell_type": "markdown",
   "metadata": {},
   "source": [
    "# DF"
   ]
  },
  {
   "cell_type": "code",
   "execution_count": 14,
   "metadata": {
    "tags": []
   },
   "outputs": [],
   "source": [
    "from pyspark.sql.window import Window\n",
    "from pyspark.sql.functions import col, concat_ws, collect_list, max"
   ]
  },
  {
   "cell_type": "code",
   "execution_count": 15,
   "metadata": {
    "tags": []
   },
   "outputs": [
    {
     "data": {
      "text/plain": [
       "pyspark.sql.dataframe.DataFrame"
      ]
     },
     "execution_count": 15,
     "metadata": {},
     "output_type": "execute_result"
    }
   ],
   "source": [
    "type(data)"
   ]
  },
  {
   "cell_type": "code",
   "execution_count": 16,
   "metadata": {
    "tags": []
   },
   "outputs": [],
   "source": [
    "df = data"
   ]
  },
  {
   "cell_type": "code",
   "execution_count": 23,
   "metadata": {
    "tags": []
   },
   "outputs": [],
   "source": [
    "w = Window.partitionBy('user_id', 'session_id').orderBy('timestamp')\n",
    "df = df.withColumn('error_flag', max((col('event_type').like('%error%')).cast('int')).over(w))"
   ]
  },
  {
   "cell_type": "code",
   "execution_count": 33,
   "metadata": {
    "tags": []
   },
   "outputs": [
    {
     "name": "stderr",
     "output_type": "stream",
     "text": [
      "[Stage 41:==================================================>       (7 + 1) / 8]\r"
     ]
    },
    {
     "name": "stdout",
     "output_type": "stream",
     "text": [
      "+--------------------+-----+\n",
      "|               route|count|\n",
      "+--------------------+-----+\n",
      "|                main| 3434|\n",
      "|           main-main| 1979|\n",
      "|      main-main-main| 1128|\n",
      "| main-main-main-main|  696|\n",
      "|main-main-main-ma...|  406|\n",
      "|main-main-main-ma...|  220|\n",
      "|        main-archive|  201|\n",
      "|         main-rabota|  177|\n",
      "|       main-internet|  158|\n",
      "|          main-bonus|  153|\n",
      "|           main-news|  147|\n",
      "|main-main-main-ma...|  145|\n",
      "|  main-rabota-rabota|  127|\n",
      "|        main-tariffs|  117|\n",
      "|main-archive-archive|  116|\n",
      "|    main-main-rabota|  111|\n",
      "|main-internet-int...|  110|\n",
      "|   main-main-archive|  109|\n",
      "|         main-online|  106|\n",
      "|     main-main-bonus|   98|\n",
      "+--------------------+-----+\n",
      "only showing top 20 rows\n",
      "\n"
     ]
    },
    {
     "name": "stderr",
     "output_type": "stream",
     "text": [
      "                                                                                \r"
     ]
    }
   ],
   "source": [
    "df_filtered2 = df.filter(col('error_flag') == 0)\n",
    "route_df2 = df_filtered2.groupBy('user_id', 'session_id') \\\n",
    "                     .agg(concat_ws('-', collect_list('event_page')).alias('route'))\n",
    "result_df = route_df2.groupBy('route').count() \\\n",
    "                    .orderBy('count', ascending=False) \\\n",
    "                    .limit(30)\n",
    "result_df.show()"
   ]
  },
  {
   "cell_type": "markdown",
   "metadata": {},
   "source": [
    "Just for demonstration"
   ]
  },
  {
   "cell_type": "code",
   "execution_count": 29,
   "metadata": {
    "tags": []
   },
   "outputs": [],
   "source": [
    "df_filtered = df.select(\"user_id\", \"session_id\", \"event_page\").distinct().filter(col('error_flag') == 0)\n",
    "route_df = df_filtered.groupBy('user_id', 'session_id') \\\n",
    "                     .agg(concat_ws('-', collect_list('event_page')).alias('route'))"
   ]
  },
  {
   "cell_type": "code",
   "execution_count": 30,
   "metadata": {
    "tags": []
   },
   "outputs": [],
   "source": [
    "result_df = route_df.groupBy('route').count() \\\n",
    "                    .orderBy('count', ascending=False) \\\n",
    "                    .limit(30)"
   ]
  },
  {
   "cell_type": "code",
   "execution_count": 31,
   "metadata": {
    "tags": []
   },
   "outputs": [
    {
     "name": "stderr",
     "output_type": "stream",
     "text": [
      "[Stage 31:===================================================>     (9 + 1) / 10]\r"
     ]
    },
    {
     "name": "stdout",
     "output_type": "stream",
     "text": [
      "+--------------------+-----+\n",
      "|               route|count|\n",
      "+--------------------+-----+\n",
      "|                main| 8184|\n",
      "|        main-archive| 1189|\n",
      "|         main-rabota| 1143|\n",
      "|       main-internet|  968|\n",
      "|          main-bonus|  924|\n",
      "|           main-news|  817|\n",
      "|        main-tariffs|  722|\n",
      "|         main-online|  626|\n",
      "|          main-vklad|  543|\n",
      "| main-archive-rabota|  233|\n",
      "| main-rabota-archive|  220|\n",
      "|main-internet-rabota|  187|\n",
      "|main-archive-inte...|  186|\n",
      "|  main-bonus-archive|  181|\n",
      "|   main-bonus-rabota|  180|\n",
      "|   main-rabota-bonus|  178|\n",
      "|main-rabota-internet|  174|\n",
      "|   main-archive-news|  171|\n",
      "|    main-rabota-news|  171|\n",
      "|    main-news-rabota|  171|\n",
      "+--------------------+-----+\n",
      "only showing top 20 rows\n",
      "\n"
     ]
    },
    {
     "name": "stderr",
     "output_type": "stream",
     "text": [
      "                                                                                \r"
     ]
    }
   ],
   "source": [
    "result_df.show()"
   ]
  },
  {
   "cell_type": "code",
   "execution_count": null,
   "metadata": {
    "tags": []
   },
   "outputs": [],
   "source": []
  },
  {
   "cell_type": "markdown",
   "metadata": {},
   "source": [
    "# RDD"
   ]
  },
  {
   "cell_type": "code",
   "execution_count": 99,
   "metadata": {
    "tags": []
   },
   "outputs": [],
   "source": [
    "rdd = sc.textFile(\"hdfs:///clickstream.csv\")"
   ]
  },
  {
   "cell_type": "code",
   "execution_count": 100,
   "metadata": {
    "tags": []
   },
   "outputs": [
    {
     "name": "stderr",
     "output_type": "stream",
     "text": [
      "                                                                                \r"
     ]
    }
   ],
   "source": [
    "header = rdd.first()\n",
    "rdd = rdd.filter(lambda line: line != header)"
   ]
  },
  {
   "cell_type": "code",
   "execution_count": 101,
   "metadata": {
    "tags": []
   },
   "outputs": [],
   "source": [
    "def parse_csv_line(line):\n",
    "    return line.split('\\t')"
   ]
  },
  {
   "cell_type": "code",
   "execution_count": 102,
   "metadata": {
    "tags": []
   },
   "outputs": [],
   "source": [
    "parsed_rdd = rdd.map(parse_csv_line)"
   ]
  },
  {
   "cell_type": "code",
   "execution_count": 103,
   "metadata": {
    "tags": []
   },
   "outputs": [
    {
     "data": {
      "text/plain": [
       "[['562', '507', 'page', 'main', '1695584127'],\n",
       " ['562', '507', 'event', 'main', '1695584134'],\n",
       " ['562', '507', 'event', 'main', '1695584144'],\n",
       " ['562', '507', 'event', 'main', '1695584147'],\n",
       " ['562', '507', 'wNaxLlerrorU', 'main', '1695584154']]"
      ]
     },
     "execution_count": 103,
     "metadata": {},
     "output_type": "execute_result"
    }
   ],
   "source": [
    "parsed_rdd.take(5)"
   ]
  },
  {
   "cell_type": "code",
   "execution_count": 116,
   "metadata": {
    "tags": []
   },
   "outputs": [],
   "source": [
    "def add_error_flag(row):\n",
    "    user_id, session_id, event_type, event_page, timestamp = row\n",
    "    return (user_id, session_id, event_type, event_page, timestamp, 1 if 'error' in event_type else 0)"
   ]
  },
  {
   "cell_type": "code",
   "execution_count": 117,
   "metadata": {
    "tags": []
   },
   "outputs": [],
   "source": [
    "events_with_error_flag = parsed_rdd.map(add_error_flag)"
   ]
  },
  {
   "cell_type": "code",
   "execution_count": 120,
   "metadata": {
    "tags": []
   },
   "outputs": [],
   "source": [
    "events_filtered = events_with_error_flag.filter(lambda x: x[5] == 0)"
   ]
  },
  {
   "cell_type": "code",
   "execution_count": 121,
   "metadata": {
    "tags": []
   },
   "outputs": [
    {
     "data": {
      "text/plain": [
       "[('562', '507', 'page', 'main', '1695584127', 0),\n",
       " ('562', '507', 'event', 'main', '1695584134', 0),\n",
       " ('562', '507', 'event', 'main', '1695584144', 0),\n",
       " ('562', '507', 'event', 'main', '1695584147', 0),\n",
       " ('562', '507', 'event', 'main', '1695584154', 0)]"
      ]
     },
     "execution_count": 121,
     "metadata": {},
     "output_type": "execute_result"
    }
   ],
   "source": [
    "events_filtered.take(5)"
   ]
  },
  {
   "cell_type": "code",
   "execution_count": 128,
   "metadata": {
    "tags": []
   },
   "outputs": [],
   "source": [
    "grouped_events = events_filtered.groupBy(lambda x: (x[0], x[1]))"
   ]
  },
  {
   "cell_type": "code",
   "execution_count": 129,
   "metadata": {
    "tags": []
   },
   "outputs": [],
   "source": [
    "def collect_routes(grouped):\n",
    "    (user_id, session_id), events = grouped\n",
    "    pages = [event[3] for event in events]\n",
    "    route = '-'.join(pages)\n",
    "    return ((user_id, session_id), route)"
   ]
  },
  {
   "cell_type": "code",
   "execution_count": 130,
   "metadata": {
    "tags": []
   },
   "outputs": [],
   "source": [
    "routes_rdd = grouped_events.map(collect_routes)"
   ]
  },
  {
   "cell_type": "code",
   "execution_count": 131,
   "metadata": {
    "tags": []
   },
   "outputs": [],
   "source": [
    "counted_routes = routes_rdd.map(lambda x: (x[1], 1)).reduceByKey(lambda x, y: x + y)"
   ]
  },
  {
   "cell_type": "code",
   "execution_count": 132,
   "metadata": {
    "tags": []
   },
   "outputs": [
    {
     "name": "stderr",
     "output_type": "stream",
     "text": [
      "                                                                                \r"
     ]
    }
   ],
   "source": [
    "top_30_routes = counted_routes.sortBy(lambda x: x[1], ascending=False).take(30)"
   ]
  },
  {
   "cell_type": "code",
   "execution_count": 133,
   "metadata": {
    "tags": []
   },
   "outputs": [
    {
     "name": "stdout",
     "output_type": "stream",
     "text": [
      "Route: main, Count: 2435\n",
      "Route: main-main, Count: 1459\n",
      "Route: main-main-main, Count: 850\n",
      "Route: main-main-main-main, Count: 549\n",
      "Route: main-main-main-main-main, Count: 321\n",
      "Route: main-main-main-main-main-main, Count: 168\n",
      "Route: main-archive, Count: 153\n",
      "Route: main-rabota, Count: 145\n",
      "Route: main-internet, Count: 122\n",
      "Route: main-main-main-main-main-main-main, Count: 118\n",
      "Route: main-news, Count: 102\n",
      "Route: main-bonus, Count: 99\n",
      "Route: main-rabota-rabota, Count: 92\n",
      "Route: main-main-rabota, Count: 86\n",
      "Route: main-main-archive, Count: 84\n",
      "Route: main-archive-archive, Count: 84\n",
      "Route: main-tariffs, Count: 80\n",
      "Route: main-online, Count: 77\n",
      "Route: main-internet-internet, Count: 73\n",
      "Route: main-main-bonus, Count: 73\n",
      "Route: main-vklad, Count: 72\n",
      "Route: main-main-news, Count: 68\n",
      "Route: main-main-main-archive, Count: 65\n",
      "Route: main-bonus-bonus, Count: 62\n",
      "Route: main-main-main-main-main-main-main-main, Count: 58\n",
      "Route: main-main-online, Count: 55\n",
      "Route: main-news-news, Count: 53\n",
      "Route: main-bonus-bonus-bonus, Count: 52\n",
      "Route: main-archive-archive-archive, Count: 51\n",
      "Route: main-main-main-internet, Count: 51\n"
     ]
    }
   ],
   "source": [
    "for route, count in top_30_routes:\n",
    "    print(f\"Route: {route}, Count: {count}\")"
   ]
  },
  {
   "cell_type": "code",
   "execution_count": 134,
   "metadata": {
    "tags": []
   },
   "outputs": [],
   "source": [
    "se.stop()"
   ]
  },
  {
   "cell_type": "code",
   "execution_count": null,
   "metadata": {},
   "outputs": [],
   "source": []
  }
 ],
 "metadata": {
  "coursera": {
   "schema_names": [
    "week-4-spark-homework"
   ]
  },
  "kernelspec": {
   "display_name": "Python 3 (ipykernel)",
   "language": "python",
   "name": "python3"
  },
  "language_info": {
   "codemirror_mode": {
    "name": "ipython",
    "version": 3
   },
   "file_extension": ".py",
   "mimetype": "text/x-python",
   "name": "python",
   "nbconvert_exporter": "python",
   "pygments_lexer": "ipython3",
   "version": "3.10.9"
  },
  "vscode": {
   "interpreter": {
    "hash": "31f2aee4e71d21fbe5cf8b01ff0e069b9275f58929596ceb00d14d90e3e16cd6"
   }
  }
 },
 "nbformat": 4,
 "nbformat_minor": 4
}
